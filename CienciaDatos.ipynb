{
  "nbformat": 4,
  "nbformat_minor": 0,
  "metadata": {
    "colab": {
      "provenance": []
    },
    "kernelspec": {
      "name": "python3",
      "display_name": "Python 3"
    },
    "language_info": {
      "name": "python"
    }
  },
  "cells": [
    {
      "cell_type": "code",
      "execution_count": null,
      "metadata": {
        "id": "5S4t22hbaFcv"
      },
      "outputs": [],
      "source": [
        "import numpy as np\n",
        "from matplotlib import pyplot as plt\n",
        "\n",
        "data = np.array([\n",
        "    [10, 146],\n",
        "    [11, 154],\n",
        "    [12, 163],\n",
        "    [13, 174],\n",
        "    [14, 182],\n",
        "    [15, 186],\n",
        "    [16, 191],\n",
        "])\n",
        "x, y = data.T\n",
        "plt.scatter(x,y)\n",
        "plt.show()"
      ]
    }
  ]
}